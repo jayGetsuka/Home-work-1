{
 "cells": [
  {
   "cell_type": "code",
   "execution_count": 1,
   "metadata": {
    "scrolled": false
   },
   "outputs": [
    {
     "name": "stderr",
     "output_type": "stream",
     "text": [
      "C:\\Users\\User\\anaconda3\\lib\\site-packages\\ipykernel_launcher.py:25: DeprecationWarning: find_elements_by_* commands are deprecated. Please use find_elements() instead\n",
      "C:\\Users\\User\\anaconda3\\lib\\site-packages\\ipykernel_launcher.py:34: DeprecationWarning: find_element_by_* commands are deprecated. Please use find_element() instead\n",
      "C:\\Users\\User\\anaconda3\\lib\\site-packages\\ipykernel_launcher.py:35: DeprecationWarning: find_element_by_* commands are deprecated. Please use find_element() instead\n",
      "C:\\Users\\User\\anaconda3\\lib\\site-packages\\ipykernel_launcher.py:36: DeprecationWarning: find_element_by_* commands are deprecated. Please use find_element() instead\n",
      "C:\\Users\\User\\anaconda3\\lib\\site-packages\\ipykernel_launcher.py:37: DeprecationWarning: find_element_by_* commands are deprecated. Please use find_element() instead\n",
      "C:\\Users\\User\\anaconda3\\lib\\site-packages\\ipykernel_launcher.py:38: DeprecationWarning: find_element_by_* commands are deprecated. Please use find_element() instead\n",
      "C:\\Users\\User\\anaconda3\\lib\\site-packages\\ipykernel_launcher.py:21: DeprecationWarning: find_element_by_* commands are deprecated. Please use find_element() instead\n"
     ]
    },
    {
     "name": "stdout",
     "output_type": "stream",
     "text": [
      "บันทึกไฟล์เรียบร้อยแล้ว\n",
      "any key to quit: ่j\n",
      "finish\n"
     ]
    }
   ],
   "source": [
    "from selenium import webdriver\n",
    "import time\n",
    "from time import sleep\n",
    "import pandas as pd\n",
    "\n",
    "driver = webdriver.Chrome()\n",
    "driver.get(\"https://www.imdb.com/search/title/?year=2021&title_type=feature&\")\n",
    "driver.implicitly_wait(5)\n",
    "\n",
    "names = []\n",
    "num_votes= []\n",
    "runtimes = []\n",
    "genres = []\n",
    "ratings = []\n",
    "goodOrbad = []\n",
    "\n",
    "path = 1\n",
    "\n",
    "for i in range(4):\n",
    "    if i >= 1:\n",
    "        more = driver.find_element_by_xpath('//div[@class=\"desc\"]//a')\n",
    "        wpath = f'https://www.imdb.com/search/title/?title_type=feature&year=2021-01-01,2021-12-31&start={path}&ref_=adv_nxt'\n",
    "        driver.get(wpath)\n",
    "\n",
    "    x_path_group = driver.find_elements_by_xpath('//div[@class=\"lister-item mode-advanced\"]//div[@class=\"lister-item-content\"]')\n",
    "\n",
    "    name = '(//div[@class=\"lister-item mode-advanced\"]//div[@class=\"lister-item-content\"]//h3[@class=\"lister-item-header\"]//a)'\n",
    "    num_vote = '(//div[@class=\"lister-item mode-advanced\"]//div[@class=\"lister-item-content\"]//p[@class=\"sort-num_votes-visible\"]//span[@name=\"nv\"][1])'\n",
    "    runtime = '(//div[@class=\"lister-item mode-advanced\"]//div[@class=\"lister-item-content\"]//p[@class=\"text-muted \"]//span[@class=\"runtime\"])'\n",
    "    genre = '(//div[@class=\"lister-item mode-advanced\"]//div[@class=\"lister-item-content\"]//p[@class=\"text-muted \"]//span[@class=\"genre\"])'\n",
    "    rating = '(//div[@class=\"lister-item mode-advanced\"]//div[@class=\"lister-item-content\"]//div[@class=\"ratings-bar\"]/*//strong)'\n",
    "\n",
    "    for i in range(1, len(x_path_group)+1):\n",
    "        name_txt = driver.find_element_by_xpath(f'{name}[{i}]').text\n",
    "        num_vote_txt = driver.find_element_by_xpath(f'{num_vote}[{i}]').text\n",
    "        runtime_txt = (driver.find_element_by_xpath(f'{runtime}[{i}]').text).split(\"min\")[0] + \"นาที\"\n",
    "        genre_txt = driver.find_element_by_xpath(f'{genre}[{i}]').text\n",
    "        rating_txt = driver.find_element_by_xpath(f'{rating}[{i}]').text\n",
    "        if float(rating_txt) >= 5.0:\n",
    "            goodOrbad.append(\"เป็นที่ชื่นชอบ\")\n",
    "        else:\n",
    "            goodOrbad.append(\"ไม่เป็นที่ชื่นชอบ\")\n",
    "\n",
    "        num_votes.append(num_vote_txt)\n",
    "        ratings.append(rating_txt)\n",
    "        genres.append(genre_txt)\n",
    "        runtimes.append(runtime_txt)\n",
    "        names.append(name_txt)\n",
    "        \n",
    "    sleep(3)\n",
    "    path += 50\n",
    "\n",
    "data = {\n",
    "    \"Name\": names,\n",
    "    \"Runtime\": runtimes,\n",
    "    \"Genre\": genres,\n",
    "    \"Rating\" : ratings,\n",
    "    \"NumberVote\": num_votes,\n",
    "    \"Is it a favorite?\" : goodOrbad\n",
    "}\n",
    " \n",
    "\n",
    "dataframe = pd.DataFrame(data)\n",
    "writer = pd.ExcelWriter(\"IMDBRating.xlsx\", engine='xlsxwriter')\n",
    "dataframe.to_excel(writer, sheet_name='IMDB', index=False)\n",
    "\n",
    "writer.save()\n",
    "writer.close()\n",
    "print(\"บันทึกไฟล์เรียบร้อยแล้ว\")\n",
    "\n",
    "input('any key to quit: ')\n",
    "driver.quit()\n",
    "print(\"finish\")\n"
   ]
  },
  {
   "cell_type": "code",
   "execution_count": null,
   "metadata": {},
   "outputs": [],
   "source": []
  }
 ],
 "metadata": {
  "kernelspec": {
   "display_name": "Python 3.7.7 64-bit ('base': conda)",
   "language": "python",
   "name": "python37764bitbasecondac4c1c4fef4c74daca88d1025ac1aac40"
  },
  "language_info": {
   "codemirror_mode": {
    "name": "ipython",
    "version": 3
   },
   "file_extension": ".py",
   "mimetype": "text/x-python",
   "name": "python",
   "nbconvert_exporter": "python",
   "pygments_lexer": "ipython3",
   "version": "3.7.7"
  }
 },
 "nbformat": 4,
 "nbformat_minor": 4
}
